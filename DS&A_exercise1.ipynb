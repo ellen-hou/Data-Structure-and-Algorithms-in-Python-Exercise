{
 "cells": [
  {
   "cell_type": "code",
   "execution_count": 6,
   "metadata": {},
   "outputs": [
    {
     "name": "stdout",
     "output_type": "stream",
     "text": [
      "n = 9\n",
      "m = 7\n"
     ]
    },
    {
     "data": {
      "text/plain": [
       "False"
      ]
     },
     "execution_count": 6,
     "metadata": {},
     "output_type": "execute_result"
    }
   ],
   "source": [
    "# R-1.1\n",
    "def is_multiple(n,m):\n",
    "\tif int(n) % int(m) == 0:\n",
    "\t\treturn True\n",
    "\telse:\n",
    "\t\treturn False\n",
    "n = input('n = ')\n",
    "m = input('m = ')\n",
    "is_multiple(n,m)"
   ]
  },
  {
   "cell_type": "code",
   "execution_count": 63,
   "metadata": {},
   "outputs": [
    {
     "name": "stdout",
     "output_type": "stream",
     "text": [
      "k = 3\n"
     ]
    },
    {
     "data": {
      "text/plain": [
       "False"
      ]
     },
     "execution_count": 63,
     "metadata": {},
     "output_type": "execute_result"
    }
   ],
   "source": [
    "# R-1.2\n",
    "def is_even(k):\n",
    "\tif int(k) % 2 == 0:\n",
    "\t\treturn True\n",
    "\telse:\n",
    "\t\treturn False\n",
    "k = input('k = ')\n",
    "is_even(k)"
   ]
  },
  {
   "cell_type": "code",
   "execution_count": 72,
   "metadata": {},
   "outputs": [],
   "source": [
    "# R-1.3\n",
    "def minmax(data):\n",
    "\tminimum = data[0]\n",
    "\tmaximum = data[0]\n",
    "\tfor i in data:\n",
    "\t\tif i < minimum:\n",
    "\t\t\tminimum = i \n",
    "\t\telif i > maximum:\n",
    "\t\t\tmaximum = i \n",
    "\t\telse:\n",
    "\t\t\tminimum = i \n",
    "\t\t\tmaximum = i \n",
    "\treturn minimum, maximum\n"
   ]
  },
  {
   "cell_type": "code",
   "execution_count": 79,
   "metadata": {},
   "outputs": [
    {
     "name": "stdout",
     "output_type": "stream",
     "text": [
      "input a positive integer: 10\n",
      "285\n"
     ]
    }
   ],
   "source": [
    "# R-1.4\n",
    "def sumofsquare(n):\n",
    "    n = int(input('input a positive integer: '))\n",
    "    q = 0\n",
    "    for i in range(1,n):\n",
    "        k = n-i\n",
    "        q = k*k + q\n",
    "    print(q) \n",
    "sumofsquare(n)"
   ]
  },
  {
   "cell_type": "code",
   "execution_count": 87,
   "metadata": {},
   "outputs": [
    {
     "name": "stdout",
     "output_type": "stream",
     "text": [
      "input a positive integer: 10\n",
      "285\n"
     ]
    }
   ],
   "source": [
    "# R-1.5\n",
    "n = int(input('input a positive integer: '))\n",
    "sofsquares = sum([(n-i)*(n-i) for i in range(1,n)])\n",
    "print(sofsquares)"
   ]
  },
  {
   "cell_type": "code",
   "execution_count": 15,
   "metadata": {},
   "outputs": [
    {
     "name": "stdout",
     "output_type": "stream",
     "text": [
      "input a positive integer: 9\n",
      "16\n"
     ]
    }
   ],
   "source": [
    "# R-1.6\n",
    "n = int(input('input a positive integer: '))\n",
    "k = 1\n",
    "s = 0\n",
    "while k < n:\t\n",
    "\ts = s + k\n",
    "\tk = k + 2\n",
    "print(s)"
   ]
  },
  {
   "cell_type": "code",
   "execution_count": 27,
   "metadata": {},
   "outputs": [
    {
     "name": "stdout",
     "output_type": "stream",
     "text": [
      "input a positive integer: 4\n",
      "4\n"
     ]
    }
   ],
   "source": [
    "# R-1.7\n",
    "n = int(input('input a positive integer: '))\n",
    "s = sum([2*k-1 for k in range(1, n//2+1)])\n",
    "print(s)"
   ]
  },
  {
   "cell_type": "code",
   "execution_count": 3,
   "metadata": {},
   "outputs": [
    {
     "name": "stdout",
     "output_type": "stream",
     "text": [
      "n[k]:  5\n",
      "n[j]:  5\n"
     ]
    }
   ],
   "source": [
    "# R-1.8\n",
    "n = [1, 2, 3, 4, 5, 6]\n",
    "k = -2\n",
    "print('n[k]: ', n[k])\n",
    "\n",
    "j = k + len(n) # should return 3\n",
    "print('n[j]: ', n[j]) #should print same value as n[k]"
   ]
  },
  {
   "cell_type": "code",
   "execution_count": 22,
   "metadata": {},
   "outputs": [
    {
     "name": "stdout",
     "output_type": "stream",
     "text": [
      "[50, 60, 70, 80]\n",
      "[50, 60, 70, 80]\n"
     ]
    }
   ],
   "source": [
    "# R-1.9\n",
    "new_range = [i*10 for i in range(5, 9)]\n",
    "print(new_range)\n",
    "\n",
    "easy_method = [i1 for i1 in range(50,90,10)]\n",
    "print(easy_method)"
   ]
  },
  {
   "cell_type": "code",
   "execution_count": 23,
   "metadata": {},
   "outputs": [
    {
     "name": "stdout",
     "output_type": "stream",
     "text": [
      "[8, 6, 4, 2, 0, -2, -4, -6, -8]\n",
      "[8, 6, 4, 2, 0, -2, -4, -6, -8]\n"
     ]
    }
   ],
   "source": [
    "# R-1.10\n",
    "new_range = sorted([i*2 for i in range(-4, 5)], reverse = True)\n",
    "print(new_range)\n",
    "\n",
    "easy_method = sorted([i1 for i1 in range(-8,10,2)], reverse = True)\n",
    "print(easy_method)"
   ]
  },
  {
   "cell_type": "code",
   "execution_count": 24,
   "metadata": {},
   "outputs": [
    {
     "name": "stdout",
     "output_type": "stream",
     "text": [
      "[1, 2, 4, 8, 16, 32, 64, 128, 256]\n"
     ]
    }
   ],
   "source": [
    "# R-1.11\n",
    "m = [2**i for i in range(0,9)]\n",
    "print(m)"
   ]
  },
  {
   "cell_type": "code",
   "execution_count": 45,
   "metadata": {},
   "outputs": [
    {
     "name": "stdout",
     "output_type": "stream",
     "text": [
      "1\n",
      "r\n",
      "mi\n"
     ]
    }
   ],
   "source": [
    "# R-1.12\n",
    "import random\n",
    "q = [1,2,3,4,5]\n",
    "p = 'doremifa'\n",
    "k = ['do', 're', 'mi', 'fa']\n",
    "choice_q = q[random.randrange(len(q))]\n",
    "choice_p = p[random.randrange(len(p))]\n",
    "choice_k = k[random.randrange(len(k))]\n",
    "print(choice_q)\n",
    "print(choice_p)\n",
    "print(choice_k)"
   ]
  },
  {
   "cell_type": "code",
   "execution_count": 54,
   "metadata": {},
   "outputs": [
    {
     "name": "stdout",
     "output_type": "stream",
     "text": [
      "[5, 4, 3, 2, 1]\n",
      "[1, 2, 3, 4, 5]\n"
     ]
    }
   ],
   "source": [
    "# C-1.13\n",
    "n = [1, 2, 3, 4, 5]\n",
    "rvs_n = []\n",
    "for i in range(1,len(n)+1):\n",
    "\trvs_n.append(n[len(n)-i])\n",
    "print(rvs_n)\n",
    "print(n)"
   ]
  },
  {
   "cell_type": "code",
   "execution_count": 91,
   "metadata": {},
   "outputs": [
    {
     "name": "stdout",
     "output_type": "stream",
     "text": [
      "[5, 4, 3, 2, 1]\n",
      "[1, 2, 3, 4, 5]\n"
     ]
    }
   ],
   "source": [
    "# C-1.13 define function\n",
    "def reverse_list(org_list):\n",
    "\trvs_n = []\n",
    "\tfor i in range(1,len(org_list)+1):\n",
    "\t\trvs_n.append(n[len(n)-i])\n",
    "\tprint(rvs_n)\n",
    "n = [1, 2, 3, 4, 5]\n",
    "reverse_list(n)\n",
    "print(n)"
   ]
  },
  {
   "cell_type": "code",
   "execution_count": 67,
   "metadata": {},
   "outputs": [
    {
     "name": "stdout",
     "output_type": "stream",
     "text": [
      "[[1, 1], [1, 3], [1, 5], [3, 1], [3, 3], [3, 5], [5, 1], [5, 3], [5, 5]]\n"
     ]
    }
   ],
   "source": [
    "# C-1.14\n",
    "n = [1, 2, 3, 4, 5, 6]\n",
    "m = []\n",
    "for i in range(0, len(n)):\n",
    "\tfor v in range(0, len(n)):\n",
    "\t\tk = n[i] * n[v]\n",
    "\t\tif is_even(k) is False:\n",
    "\t\t\tm.append([n[i], n[v]])\n",
    "print(m)\n",
    "# is_even is the function defined in R-1.2"
   ]
  },
  {
   "cell_type": "code",
   "execution_count": 92,
   "metadata": {},
   "outputs": [
    {
     "name": "stdout",
     "output_type": "stream",
     "text": [
      "[[1, 1], [1, 3], [1, 5], [3, 1], [3, 3], [3, 5], [5, 1], [5, 3], [5, 5]]\n"
     ]
    }
   ],
   "source": [
    "# C-1.14 define function\n",
    "def odd_product_pair(data):\n",
    "\tm = []\n",
    "\tfor i in range(0, len(n)):\n",
    "\t\tfor v in range(0, len(n)):\n",
    "\t\t\tk = n[i] * n[v]\n",
    "\t\t\tif is_even(k) is False:\n",
    "\t\t\t\tm.append([n[i], n[v]])\n",
    "\tprint(m)\n",
    "odd_product_pair([1, 2, 3, 4, 5, 6])"
   ]
  },
  {
   "cell_type": "code",
   "execution_count": 95,
   "metadata": {},
   "outputs": [
    {
     "name": "stdout",
     "output_type": "stream",
     "text": [
      "not_distinct\n"
     ]
    }
   ],
   "source": [
    "# C-1.15\n",
    "n = [1, 2, 3, 4, 5, 6]\n",
    "m = [2, 4, 5, 6, 4]\n",
    "s = 0\n",
    "for i in range(0, len(m)):\n",
    "\tfor v in range(0, len(m)):\n",
    "\t\tk = m[i] - m[v]\n",
    "\t\tif i != v and k == 0:\n",
    "\t\t\ts = s +1\n",
    "if s > 0:\n",
    "    print('not_distinct')\n",
    "else:\n",
    "    print('distinct')"
   ]
  },
  {
   "cell_type": "code",
   "execution_count": 96,
   "metadata": {},
   "outputs": [
    {
     "name": "stdout",
     "output_type": "stream",
     "text": [
      "distinct\n",
      "not_distinct\n"
     ]
    }
   ],
   "source": [
    "# C-1.15 define function\n",
    "def is_distinct(data):\n",
    "\ts = 0\n",
    "\tfor i in range(0, len(data)):\n",
    "\t\tfor v in range(0, len(data)):\n",
    "\t\t\tk = data[i] - data[v]\n",
    "\t\t\tif i != v and k == 0:\n",
    "\t\t\t\ts = s +1\n",
    "\tif s > 0:\n",
    "\t\tprint('not_distinct')\n",
    "\telse:\n",
    "\t\tprint('distinct')\n",
    "n = [1, 2, 3, 4, 5, 6]\n",
    "m = [2, 4, 5, 6, 4]\n",
    "is_distinct(n)\n",
    "is_distinct(m)"
   ]
  },
  {
   "cell_type": "code",
   "execution_count": 103,
   "metadata": {},
   "outputs": [
    {
     "name": "stdout",
     "output_type": "stream",
     "text": [
      "[0, 2, 6, 12, 20, 30, 42, 56, 72, 90]\n"
     ]
    }
   ],
   "source": [
    "# C-1.18\n",
    "k = 0\n",
    "s = [0,]\n",
    "for i in range(2,20,2):\n",
    "\tk = k + i \n",
    "\ts.append(k)\n",
    "print(s)"
   ]
  },
  {
   "cell_type": "code",
   "execution_count": 104,
   "metadata": {},
   "outputs": [
    {
     "name": "stdout",
     "output_type": "stream",
     "text": [
      "[0, 2, 6, 12, 20, 30, 42, 56, 72, 90]\n"
     ]
    }
   ],
   "source": [
    "# C-1.18 another method\n",
    "print([k * (k - 1) for k in range(1, 11)])"
   ]
  },
  {
   "cell_type": "code",
   "execution_count": 105,
   "metadata": {},
   "outputs": [
    {
     "name": "stdout",
     "output_type": "stream",
     "text": [
      "['a', 'b', 'c', 'd', 'e', 'f', 'g', 'h', 'i', 'j', 'k', 'l', 'm', 'n', 'o', 'p', 'q', 'r', 's', 't', 'u', 'v', 'w', 'x', 'y', 'z']\n"
     ]
    }
   ],
   "source": [
    "# C-1.19\n",
    "print([chr(k) for k in range(97, 123)])"
   ]
  },
  {
   "cell_type": "code",
   "execution_count": 113,
   "metadata": {},
   "outputs": [
    {
     "name": "stdout",
     "output_type": "stream",
     "text": [
      "[20, 10, 30, 50, 40]\n"
     ]
    }
   ],
   "source": [
    "# C-1.20\n",
    "def own_shuffle(data):\n",
    "\tnew_list = []\n",
    "\tfor i in range(0,len(data)):\n",
    "\t\tk = n[random.randint(0, len(n)-1)]\n",
    "\t\tnew_list.append(k)\n",
    "\t\tdata.remove(k)\n",
    "\tprint(new_list)\n",
    "n = [10,20,30,40,50]\n",
    "own_shuffle(n)"
   ]
  },
  {
   "cell_type": "code",
   "execution_count": 133,
   "metadata": {},
   "outputs": [
    {
     "data": {
      "text/plain": [
       "50"
      ]
     },
     "execution_count": 133,
     "metadata": {},
     "output_type": "execute_result"
    }
   ],
   "source": [
    "# C-1.22\n",
    "def dot_product(a,b):\n",
    "\tc = dict()\n",
    "\tfor i in range(0, len(a)):\n",
    "\t\tk = {i: a[i] * b[i]}\n",
    "\t\tc.update(k)\n",
    "\treturn c\t\n",
    "a1 = [5,6,7,8]\n",
    "b1 = [10,20,30,40]\n",
    "dot_product(a1,b1)\n",
    "dot_product(a1,b1)[0]"
   ]
  },
  {
   "cell_type": "code",
   "execution_count": 142,
   "metadata": {},
   "outputs": [
    {
     "data": {
      "text/plain": [
       "2"
      ]
     },
     "execution_count": 142,
     "metadata": {},
     "output_type": "execute_result"
    }
   ],
   "source": [
    "# C-1.24\n",
    "def count_vowels(string):\n",
    "\tvowels = ['a', 'e', 'i', 'o', 'u', 'y', 'w']\n",
    "\tk = 0\n",
    "\tfor i in range(0, len(string)):\n",
    "\t\tif string[i] in vowels:\n",
    "\t\t\tk = k + 1\n",
    "\treturn k \n",
    "test_str = 'hello'\n",
    "count_vowels(test_str)"
   ]
  },
  {
   "cell_type": "code",
   "execution_count": 161,
   "metadata": {},
   "outputs": [
    {
     "data": {
      "text/plain": [
       "'hello and hoed'"
      ]
     },
     "execution_count": 161,
     "metadata": {},
     "output_type": "execute_result"
    }
   ],
   "source": [
    "# C-1.25\n",
    "import string\n",
    "def remove_punctuation(sentence):\n",
    "    result = ''\n",
    "    for i in sentence:\n",
    "        if i not in string.punctuation:\n",
    "            result += i\n",
    "    return result\n",
    "test_str = 'hello, and hoe?.d:'\n",
    "remove_punctuation(test_str)"
   ]
  },
  {
   "cell_type": "code",
   "execution_count": 166,
   "metadata": {},
   "outputs": [
    {
     "name": "stdout",
     "output_type": "stream",
     "text": [
      "please enter an integer: 3\n",
      "please enter an integer: 4\n",
      "please enter an integer: 7\n",
      "a+b=c\n"
     ]
    }
   ],
   "source": [
    "# C-1.26\n",
    "a = int(input('please enter an integer: '))\n",
    "b = int(input('please enter an integer: '))\n",
    "c = int(input('please enter an integer: '))\n",
    "def is_formula(a,b,c):\n",
    "\tif a + b == c:\n",
    "\t\tprint('a+b=c')\n",
    "\telif b - c == a:\n",
    "\t\tprint('a = b - c')\n",
    "\telif a * b == c:\n",
    "\t\tprint('a * b = c')\n",
    "\telse:\n",
    "\t\tprint(\"can't be used\")\n",
    "is_formula(a,b,c)"
   ]
  },
  {
   "cell_type": "code",
   "execution_count": 171,
   "metadata": {},
   "outputs": [
    {
     "data": {
      "text/plain": [
       "55"
      ]
     },
     "execution_count": 171,
     "metadata": {},
     "output_type": "execute_result"
    }
   ],
   "source": [
    "# C-1.28\n",
    "def norm(v,p = None):\n",
    "\tif p is None:\n",
    "\t\tp = 2\n",
    "\ts = 0\n",
    "\tfor i in range(0, len(v)):\n",
    "\t\ts = v[i] ** p + s\n",
    "\treturn s\n",
    "\n",
    "v1 = [1,2,3,4,5]\n",
    "norm(v1)\n"
   ]
  },
  {
   "cell_type": "code",
   "execution_count": 199,
   "metadata": {},
   "outputs": [
    {
     "name": "stdout",
     "output_type": "stream",
     "text": [
      "['ca', 'ct', 'cd', 'co', 'cg', 'ac', 'at', 'ad', 'ao', 'ag', 'tc', 'ta', 'td', 'to', 'tg', 'dc', 'da', 'dt', 'do', 'dg', 'oc', 'oa', 'ot', 'od', 'og', 'gc', 'ga', 'gt', 'gd', 'go', 'cat', 'cad', 'cao', 'cag', 'cta', 'ctd', 'cto', 'ctg', 'cda', 'cdt', 'cdo', 'cdg', 'coa', 'cot', 'cod', 'cog', 'cga', 'cgt', 'cgd', 'cgo', 'act', 'acd', 'aco', 'acg', 'atc', 'atd', 'ato', 'atg', 'adc', 'adt', 'ado', 'adg', 'aoc', 'aot', 'aod', 'aog', 'agc', 'agt', 'agd', 'ago', 'tca', 'tcd', 'tco', 'tcg', 'tac', 'tad', 'tao', 'tag', 'tdc', 'tda', 'tdo', 'tdg', 'toc', 'toa', 'tod', 'tog', 'tgc', 'tga', 'tgd', 'tgo', 'dca', 'dct', 'dco', 'dcg', 'dac', 'dat', 'dao', 'dag', 'dtc', 'dta', 'dto', 'dtg', 'doc', 'doa', 'dot', 'dog', 'dgc', 'dga', 'dgt', 'dgo', 'oca', 'oct', 'ocd', 'ocg', 'oac', 'oat', 'oad', 'oag', 'otc', 'ota', 'otd', 'otg', 'odc', 'oda', 'odt', 'odg', 'ogc', 'oga', 'ogt', 'ogd', 'gca', 'gct', 'gcd', 'gco', 'gac', 'gat', 'gad', 'gao', 'gtc', 'gta', 'gtd', 'gto', 'gdc', 'gda', 'gdt', 'gdo', 'goc', 'goa', 'got', 'god', 'catd', 'cato', 'catg', 'cadt', 'cado', 'cadg', 'caot', 'caod', 'caog', 'cagt', 'cagd', 'cago', 'ctad', 'ctao', 'ctag', 'ctda', 'ctdo', 'ctdg', 'ctoa', 'ctod', 'ctog', 'ctga', 'ctgd', 'ctgo', 'cdat', 'cdao', 'cdag', 'cdta', 'cdto', 'cdtg', 'cdoa', 'cdot', 'cdog', 'cdga', 'cdgt', 'cdgo', 'coat', 'coad', 'coag', 'cota', 'cotd', 'cotg', 'coda', 'codt', 'codg', 'coga', 'cogt', 'cogd', 'cgat', 'cgad', 'cgao', 'cgta', 'cgtd', 'cgto', 'cgda', 'cgdt', 'cgdo', 'cgoa', 'cgot', 'cgod', 'actd', 'acto', 'actg', 'acdt', 'acdo', 'acdg', 'acot', 'acod', 'acog', 'acgt', 'acgd', 'acgo', 'atcd', 'atco', 'atcg', 'atdc', 'atdo', 'atdg', 'atoc', 'atod', 'atog', 'atgc', 'atgd', 'atgo', 'adct', 'adco', 'adcg', 'adtc', 'adto', 'adtg', 'adoc', 'adot', 'adog', 'adgc', 'adgt', 'adgo', 'aoct', 'aocd', 'aocg', 'aotc', 'aotd', 'aotg', 'aodc', 'aodt', 'aodg', 'aogc', 'aogt', 'aogd', 'agct', 'agcd', 'agco', 'agtc', 'agtd', 'agto', 'agdc', 'agdt', 'agdo', 'agoc', 'agot', 'agod', 'tcad', 'tcao', 'tcag', 'tcda', 'tcdo', 'tcdg', 'tcoa', 'tcod', 'tcog', 'tcga', 'tcgd', 'tcgo', 'tacd', 'taco', 'tacg', 'tadc', 'tado', 'tadg', 'taoc', 'taod', 'taog', 'tagc', 'tagd', 'tago', 'tdca', 'tdco', 'tdcg', 'tdac', 'tdao', 'tdag', 'tdoc', 'tdoa', 'tdog', 'tdgc', 'tdga', 'tdgo', 'toca', 'tocd', 'tocg', 'toac', 'toad', 'toag', 'todc', 'toda', 'todg', 'togc', 'toga', 'togd', 'tgca', 'tgcd', 'tgco', 'tgac', 'tgad', 'tgao', 'tgdc', 'tgda', 'tgdo', 'tgoc', 'tgoa', 'tgod', 'dcat', 'dcao', 'dcag', 'dcta', 'dcto', 'dctg', 'dcoa', 'dcot', 'dcog', 'dcga', 'dcgt', 'dcgo', 'dact', 'daco', 'dacg', 'datc', 'dato', 'datg', 'daoc', 'daot', 'daog', 'dagc', 'dagt', 'dago', 'dtca', 'dtco', 'dtcg', 'dtac', 'dtao', 'dtag', 'dtoc', 'dtoa', 'dtog', 'dtgc', 'dtga', 'dtgo', 'doca', 'doct', 'docg', 'doac', 'doat', 'doag', 'dotc', 'dota', 'dotg', 'dogc', 'doga', 'dogt', 'dgca', 'dgct', 'dgco', 'dgac', 'dgat', 'dgao', 'dgtc', 'dgta', 'dgto', 'dgoc', 'dgoa', 'dgot', 'ocat', 'ocad', 'ocag', 'octa', 'octd', 'octg', 'ocda', 'ocdt', 'ocdg', 'ocga', 'ocgt', 'ocgd', 'oact', 'oacd', 'oacg', 'oatc', 'oatd', 'oatg', 'oadc', 'oadt', 'oadg', 'oagc', 'oagt', 'oagd', 'otca', 'otcd', 'otcg', 'otac', 'otad', 'otag', 'otdc', 'otda', 'otdg', 'otgc', 'otga', 'otgd', 'odca', 'odct', 'odcg', 'odac', 'odat', 'odag', 'odtc', 'odta', 'odtg', 'odgc', 'odga', 'odgt', 'ogca', 'ogct', 'ogcd', 'ogac', 'ogat', 'ogad', 'ogtc', 'ogta', 'ogtd', 'ogdc', 'ogda', 'ogdt', 'gcat', 'gcad', 'gcao', 'gcta', 'gctd', 'gcto', 'gcda', 'gcdt', 'gcdo', 'gcoa', 'gcot', 'gcod', 'gact', 'gacd', 'gaco', 'gatc', 'gatd', 'gato', 'gadc', 'gadt', 'gado', 'gaoc', 'gaot', 'gaod', 'gtca', 'gtcd', 'gtco', 'gtac', 'gtad', 'gtao', 'gtdc', 'gtda', 'gtdo', 'gtoc', 'gtoa', 'gtod', 'gdca', 'gdct', 'gdco', 'gdac', 'gdat', 'gdao', 'gdtc', 'gdta', 'gdto', 'gdoc', 'gdoa', 'gdot', 'goca', 'goct', 'gocd', 'goac', 'goat', 'goad', 'gotc', 'gota', 'gotd', 'godc', 'goda', 'godt', 'catdo', 'catdg', 'catod', 'catog', 'catgd', 'catgo', 'cadto', 'cadtg', 'cadot', 'cadog', 'cadgt', 'cadgo', 'caotd', 'caotg', 'caodt', 'caodg', 'caogt', 'caogd', 'cagtd', 'cagto', 'cagdt', 'cagdo', 'cagot', 'cagod', 'ctado', 'ctadg', 'ctaod', 'ctaog', 'ctagd', 'ctago', 'ctdao', 'ctdag', 'ctdoa', 'ctdog', 'ctdga', 'ctdgo', 'ctoad', 'ctoag', 'ctoda', 'ctodg', 'ctoga', 'ctogd', 'ctgad', 'ctgao', 'ctgda', 'ctgdo', 'ctgoa', 'ctgod', 'cdato', 'cdatg', 'cdaot', 'cdaog', 'cdagt', 'cdago', 'cdtao', 'cdtag', 'cdtoa', 'cdtog', 'cdtga', 'cdtgo', 'cdoat', 'cdoag', 'cdota', 'cdotg', 'cdoga', 'cdogt', 'cdgat', 'cdgao', 'cdgta', 'cdgto', 'cdgoa', 'cdgot', 'coatd', 'coatg', 'coadt', 'coadg', 'coagt', 'coagd', 'cotad', 'cotag', 'cotda', 'cotdg', 'cotga', 'cotgd', 'codat', 'codag', 'codta', 'codtg', 'codga', 'codgt', 'cogat', 'cogad', 'cogta', 'cogtd', 'cogda', 'cogdt', 'cgatd', 'cgato', 'cgadt', 'cgado', 'cgaot', 'cgaod', 'cgtad', 'cgtao', 'cgtda', 'cgtdo', 'cgtoa', 'cgtod', 'cgdat', 'cgdao', 'cgdta', 'cgdto', 'cgdoa', 'cgdot', 'cgoat', 'cgoad', 'cgota', 'cgotd', 'cgoda', 'cgodt', 'actdo', 'actdg', 'actod', 'actog', 'actgd', 'actgo', 'acdto', 'acdtg', 'acdot', 'acdog', 'acdgt', 'acdgo', 'acotd', 'acotg', 'acodt', 'acodg', 'acogt', 'acogd', 'acgtd', 'acgto', 'acgdt', 'acgdo', 'acgot', 'acgod', 'atcdo', 'atcdg', 'atcod', 'atcog', 'atcgd', 'atcgo', 'atdco', 'atdcg', 'atdoc', 'atdog', 'atdgc', 'atdgo', 'atocd', 'atocg', 'atodc', 'atodg', 'atogc', 'atogd', 'atgcd', 'atgco', 'atgdc', 'atgdo', 'atgoc', 'atgod', 'adcto', 'adctg', 'adcot', 'adcog', 'adcgt', 'adcgo', 'adtco', 'adtcg', 'adtoc', 'adtog', 'adtgc', 'adtgo', 'adoct', 'adocg', 'adotc', 'adotg', 'adogc', 'adogt', 'adgct', 'adgco', 'adgtc', 'adgto', 'adgoc', 'adgot', 'aoctd', 'aoctg', 'aocdt', 'aocdg', 'aocgt', 'aocgd', 'aotcd', 'aotcg', 'aotdc', 'aotdg', 'aotgc', 'aotgd', 'aodct', 'aodcg', 'aodtc', 'aodtg', 'aodgc', 'aodgt', 'aogct', 'aogcd', 'aogtc', 'aogtd', 'aogdc', 'aogdt', 'agctd', 'agcto', 'agcdt', 'agcdo', 'agcot', 'agcod', 'agtcd', 'agtco', 'agtdc', 'agtdo', 'agtoc', 'agtod', 'agdct', 'agdco', 'agdtc', 'agdto', 'agdoc', 'agdot', 'agoct', 'agocd', 'agotc', 'agotd', 'agodc', 'agodt', 'tcado', 'tcadg', 'tcaod', 'tcaog', 'tcagd', 'tcago', 'tcdao', 'tcdag', 'tcdoa', 'tcdog', 'tcdga', 'tcdgo', 'tcoad', 'tcoag', 'tcoda', 'tcodg', 'tcoga', 'tcogd', 'tcgad', 'tcgao', 'tcgda', 'tcgdo', 'tcgoa', 'tcgod', 'tacdo', 'tacdg', 'tacod', 'tacog', 'tacgd', 'tacgo', 'tadco', 'tadcg', 'tadoc', 'tadog', 'tadgc', 'tadgo', 'taocd', 'taocg', 'taodc', 'taodg', 'taogc', 'taogd', 'tagcd', 'tagco', 'tagdc', 'tagdo', 'tagoc', 'tagod', 'tdcao', 'tdcag', 'tdcoa', 'tdcog', 'tdcga', 'tdcgo', 'tdaco', 'tdacg', 'tdaoc', 'tdaog', 'tdagc', 'tdago', 'tdoca', 'tdocg', 'tdoac', 'tdoag', 'tdogc', 'tdoga', 'tdgca', 'tdgco', 'tdgac', 'tdgao', 'tdgoc', 'tdgoa', 'tocad', 'tocag', 'tocda', 'tocdg', 'tocga', 'tocgd', 'toacd', 'toacg', 'toadc', 'toadg', 'toagc', 'toagd', 'todca', 'todcg', 'todac', 'todag', 'todgc', 'todga', 'togca', 'togcd', 'togac', 'togad', 'togdc', 'togda', 'tgcad', 'tgcao', 'tgcda', 'tgcdo', 'tgcoa', 'tgcod', 'tgacd', 'tgaco', 'tgadc', 'tgado', 'tgaoc', 'tgaod', 'tgdca', 'tgdco', 'tgdac', 'tgdao', 'tgdoc', 'tgdoa', 'tgoca', 'tgocd', 'tgoac', 'tgoad', 'tgodc', 'tgoda', 'dcato', 'dcatg', 'dcaot', 'dcaog', 'dcagt', 'dcago', 'dctao', 'dctag', 'dctoa', 'dctog', 'dctga', 'dctgo', 'dcoat', 'dcoag', 'dcota', 'dcotg', 'dcoga', 'dcogt', 'dcgat', 'dcgao', 'dcgta', 'dcgto', 'dcgoa', 'dcgot', 'dacto', 'dactg', 'dacot', 'dacog', 'dacgt', 'dacgo', 'datco', 'datcg', 'datoc', 'datog', 'datgc', 'datgo', 'daoct', 'daocg', 'daotc', 'daotg', 'daogc', 'daogt', 'dagct', 'dagco', 'dagtc', 'dagto', 'dagoc', 'dagot', 'dtcao', 'dtcag', 'dtcoa', 'dtcog', 'dtcga', 'dtcgo', 'dtaco', 'dtacg', 'dtaoc', 'dtaog', 'dtagc', 'dtago', 'dtoca', 'dtocg', 'dtoac', 'dtoag', 'dtogc', 'dtoga', 'dtgca', 'dtgco', 'dtgac', 'dtgao', 'dtgoc', 'dtgoa', 'docat', 'docag', 'docta', 'doctg', 'docga', 'docgt', 'doact', 'doacg', 'doatc', 'doatg', 'doagc', 'doagt', 'dotca', 'dotcg', 'dotac', 'dotag', 'dotgc', 'dotga', 'dogca', 'dogct', 'dogac', 'dogat', 'dogtc', 'dogta', 'dgcat', 'dgcao', 'dgcta', 'dgcto', 'dgcoa', 'dgcot', 'dgact', 'dgaco', 'dgatc', 'dgato', 'dgaoc', 'dgaot', 'dgtca', 'dgtco', 'dgtac', 'dgtao', 'dgtoc', 'dgtoa', 'dgoca', 'dgoct', 'dgoac', 'dgoat', 'dgotc', 'dgota', 'ocatd', 'ocatg', 'ocadt', 'ocadg', 'ocagt', 'ocagd', 'octad', 'octag', 'octda', 'octdg', 'octga', 'octgd', 'ocdat', 'ocdag', 'ocdta', 'ocdtg', 'ocdga', 'ocdgt', 'ocgat', 'ocgad', 'ocgta', 'ocgtd', 'ocgda', 'ocgdt', 'oactd', 'oactg', 'oacdt', 'oacdg', 'oacgt', 'oacgd', 'oatcd', 'oatcg', 'oatdc', 'oatdg', 'oatgc', 'oatgd', 'oadct', 'oadcg', 'oadtc', 'oadtg', 'oadgc', 'oadgt', 'oagct', 'oagcd', 'oagtc', 'oagtd', 'oagdc', 'oagdt', 'otcad', 'otcag', 'otcda', 'otcdg', 'otcga', 'otcgd', 'otacd', 'otacg', 'otadc', 'otadg', 'otagc', 'otagd', 'otdca', 'otdcg', 'otdac', 'otdag', 'otdgc', 'otdga', 'otgca', 'otgcd', 'otgac', 'otgad', 'otgdc', 'otgda', 'odcat', 'odcag', 'odcta', 'odctg', 'odcga', 'odcgt', 'odact', 'odacg', 'odatc', 'odatg', 'odagc', 'odagt', 'odtca', 'odtcg', 'odtac', 'odtag', 'odtgc', 'odtga', 'odgca', 'odgct', 'odgac', 'odgat', 'odgtc', 'odgta', 'ogcat', 'ogcad', 'ogcta', 'ogctd', 'ogcda', 'ogcdt', 'ogact', 'ogacd', 'ogatc', 'ogatd', 'ogadc', 'ogadt', 'ogtca', 'ogtcd', 'ogtac', 'ogtad', 'ogtdc', 'ogtda', 'ogdca', 'ogdct', 'ogdac', 'ogdat', 'ogdtc', 'ogdta', 'gcatd', 'gcato', 'gcadt', 'gcado', 'gcaot', 'gcaod', 'gctad', 'gctao', 'gctda', 'gctdo', 'gctoa', 'gctod', 'gcdat', 'gcdao', 'gcdta', 'gcdto', 'gcdoa', 'gcdot', 'gcoat', 'gcoad', 'gcota', 'gcotd', 'gcoda', 'gcodt', 'gactd', 'gacto', 'gacdt', 'gacdo', 'gacot', 'gacod', 'gatcd', 'gatco', 'gatdc', 'gatdo', 'gatoc', 'gatod', 'gadct', 'gadco', 'gadtc', 'gadto', 'gadoc', 'gadot', 'gaoct', 'gaocd', 'gaotc', 'gaotd', 'gaodc', 'gaodt', 'gtcad', 'gtcao', 'gtcda', 'gtcdo', 'gtcoa', 'gtcod', 'gtacd', 'gtaco', 'gtadc', 'gtado', 'gtaoc', 'gtaod', 'gtdca', 'gtdco', 'gtdac', 'gtdao', 'gtdoc', 'gtdoa', 'gtoca', 'gtocd', 'gtoac', 'gtoad', 'gtodc', 'gtoda', 'gdcat', 'gdcao', 'gdcta', 'gdcto', 'gdcoa', 'gdcot', 'gdact', 'gdaco', 'gdatc', 'gdato', 'gdaoc', 'gdaot', 'gdtca', 'gdtco', 'gdtac', 'gdtao', 'gdtoc', 'gdtoa', 'gdoca', 'gdoct', 'gdoac', 'gdoat', 'gdotc', 'gdota', 'gocat', 'gocad', 'gocta', 'goctd', 'gocda', 'gocdt', 'goact', 'goacd', 'goatc', 'goatd', 'goadc', 'goadt', 'gotca', 'gotcd', 'gotac', 'gotad', 'gotdc', 'gotda', 'godca', 'godct', 'godac', 'godat', 'godtc', 'godta', 'catdog', 'catdgo', 'catodg', 'catogd', 'catgdo', 'catgod', 'cadtog', 'cadtgo', 'cadotg', 'cadogt', 'cadgto', 'cadgot', 'caotdg', 'caotgd', 'caodtg', 'caodgt', 'caogtd', 'caogdt', 'cagtdo', 'cagtod', 'cagdto', 'cagdot', 'cagotd', 'cagodt', 'ctadog', 'ctadgo', 'ctaodg', 'ctaogd', 'ctagdo', 'ctagod', 'ctdaog', 'ctdago', 'ctdoag', 'ctdoga', 'ctdgao', 'ctdgoa', 'ctoadg', 'ctoagd', 'ctodag', 'ctodga', 'ctogad', 'ctogda', 'ctgado', 'ctgaod', 'ctgdao', 'ctgdoa', 'ctgoad', 'ctgoda', 'cdatog', 'cdatgo', 'cdaotg', 'cdaogt', 'cdagto', 'cdagot', 'cdtaog', 'cdtago', 'cdtoag', 'cdtoga', 'cdtgao', 'cdtgoa', 'cdoatg', 'cdoagt', 'cdotag', 'cdotga', 'cdogat', 'cdogta', 'cdgato', 'cdgaot', 'cdgtao', 'cdgtoa', 'cdgoat', 'cdgota', 'coatdg', 'coatgd', 'coadtg', 'coadgt', 'coagtd', 'coagdt', 'cotadg', 'cotagd', 'cotdag', 'cotdga', 'cotgad', 'cotgda', 'codatg', 'codagt', 'codtag', 'codtga', 'codgat', 'codgta', 'cogatd', 'cogadt', 'cogtad', 'cogtda', 'cogdat', 'cogdta', 'cgatdo', 'cgatod', 'cgadto', 'cgadot', 'cgaotd', 'cgaodt', 'cgtado', 'cgtaod', 'cgtdao', 'cgtdoa', 'cgtoad', 'cgtoda', 'cgdato', 'cgdaot', 'cgdtao', 'cgdtoa', 'cgdoat', 'cgdota', 'cgoatd', 'cgoadt', 'cgotad', 'cgotda', 'cgodat', 'cgodta', 'actdog', 'actdgo', 'actodg', 'actogd', 'actgdo', 'actgod', 'acdtog', 'acdtgo', 'acdotg', 'acdogt', 'acdgto', 'acdgot', 'acotdg', 'acotgd', 'acodtg', 'acodgt', 'acogtd', 'acogdt', 'acgtdo', 'acgtod', 'acgdto', 'acgdot', 'acgotd', 'acgodt', 'atcdog', 'atcdgo', 'atcodg', 'atcogd', 'atcgdo', 'atcgod', 'atdcog', 'atdcgo', 'atdocg', 'atdogc', 'atdgco', 'atdgoc', 'atocdg', 'atocgd', 'atodcg', 'atodgc', 'atogcd', 'atogdc', 'atgcdo', 'atgcod', 'atgdco', 'atgdoc', 'atgocd', 'atgodc', 'adctog', 'adctgo', 'adcotg', 'adcogt', 'adcgto', 'adcgot', 'adtcog', 'adtcgo', 'adtocg', 'adtogc', 'adtgco', 'adtgoc', 'adoctg', 'adocgt', 'adotcg', 'adotgc', 'adogct', 'adogtc', 'adgcto', 'adgcot', 'adgtco', 'adgtoc', 'adgoct', 'adgotc', 'aoctdg', 'aoctgd', 'aocdtg', 'aocdgt', 'aocgtd', 'aocgdt', 'aotcdg', 'aotcgd', 'aotdcg', 'aotdgc', 'aotgcd', 'aotgdc', 'aodctg', 'aodcgt', 'aodtcg', 'aodtgc', 'aodgct', 'aodgtc', 'aogctd', 'aogcdt', 'aogtcd', 'aogtdc', 'aogdct', 'aogdtc', 'agctdo', 'agctod', 'agcdto', 'agcdot', 'agcotd', 'agcodt', 'agtcdo', 'agtcod', 'agtdco', 'agtdoc', 'agtocd', 'agtodc', 'agdcto', 'agdcot', 'agdtco', 'agdtoc', 'agdoct', 'agdotc', 'agoctd', 'agocdt', 'agotcd', 'agotdc', 'agodct', 'agodtc', 'tcadog', 'tcadgo', 'tcaodg', 'tcaogd', 'tcagdo', 'tcagod', 'tcdaog', 'tcdago', 'tcdoag', 'tcdoga', 'tcdgao', 'tcdgoa', 'tcoadg', 'tcoagd', 'tcodag', 'tcodga', 'tcogad', 'tcogda', 'tcgado', 'tcgaod', 'tcgdao', 'tcgdoa', 'tcgoad', 'tcgoda', 'tacdog', 'tacdgo', 'tacodg', 'tacogd', 'tacgdo', 'tacgod', 'tadcog', 'tadcgo', 'tadocg', 'tadogc', 'tadgco', 'tadgoc', 'taocdg', 'taocgd', 'taodcg', 'taodgc', 'taogcd', 'taogdc', 'tagcdo', 'tagcod', 'tagdco', 'tagdoc', 'tagocd', 'tagodc', 'tdcaog', 'tdcago', 'tdcoag', 'tdcoga', 'tdcgao', 'tdcgoa', 'tdacog', 'tdacgo', 'tdaocg', 'tdaogc', 'tdagco', 'tdagoc', 'tdocag', 'tdocga', 'tdoacg', 'tdoagc', 'tdogca', 'tdogac', 'tdgcao', 'tdgcoa', 'tdgaco', 'tdgaoc', 'tdgoca', 'tdgoac', 'tocadg', 'tocagd', 'tocdag', 'tocdga', 'tocgad', 'tocgda', 'toacdg', 'toacgd', 'toadcg', 'toadgc', 'toagcd', 'toagdc', 'todcag', 'todcga', 'todacg', 'todagc', 'todgca', 'todgac', 'togcad', 'togcda', 'togacd', 'togadc', 'togdca', 'togdac', 'tgcado', 'tgcaod', 'tgcdao', 'tgcdoa', 'tgcoad', 'tgcoda', 'tgacdo', 'tgacod', 'tgadco', 'tgadoc', 'tgaocd', 'tgaodc', 'tgdcao', 'tgdcoa', 'tgdaco', 'tgdaoc', 'tgdoca', 'tgdoac', 'tgocad', 'tgocda', 'tgoacd', 'tgoadc', 'tgodca', 'tgodac', 'dcatog', 'dcatgo', 'dcaotg', 'dcaogt', 'dcagto', 'dcagot', 'dctaog', 'dctago', 'dctoag', 'dctoga', 'dctgao', 'dctgoa', 'dcoatg', 'dcoagt', 'dcotag', 'dcotga', 'dcogat', 'dcogta', 'dcgato', 'dcgaot', 'dcgtao', 'dcgtoa', 'dcgoat', 'dcgota', 'dactog', 'dactgo', 'dacotg', 'dacogt', 'dacgto', 'dacgot', 'datcog', 'datcgo', 'datocg', 'datogc', 'datgco', 'datgoc', 'daoctg', 'daocgt', 'daotcg', 'daotgc', 'daogct', 'daogtc', 'dagcto', 'dagcot', 'dagtco', 'dagtoc', 'dagoct', 'dagotc', 'dtcaog', 'dtcago', 'dtcoag', 'dtcoga', 'dtcgao', 'dtcgoa', 'dtacog', 'dtacgo', 'dtaocg', 'dtaogc', 'dtagco', 'dtagoc', 'dtocag', 'dtocga', 'dtoacg', 'dtoagc', 'dtogca', 'dtogac', 'dtgcao', 'dtgcoa', 'dtgaco', 'dtgaoc', 'dtgoca', 'dtgoac', 'docatg', 'docagt', 'doctag', 'doctga', 'docgat', 'docgta', 'doactg', 'doacgt', 'doatcg', 'doatgc', 'doagct', 'doagtc', 'dotcag', 'dotcga', 'dotacg', 'dotagc', 'dotgca', 'dotgac', 'dogcat', 'dogcta', 'dogact', 'dogatc', 'dogtca', 'dogtac', 'dgcato', 'dgcaot', 'dgctao', 'dgctoa', 'dgcoat', 'dgcota', 'dgacto', 'dgacot', 'dgatco', 'dgatoc', 'dgaoct', 'dgaotc', 'dgtcao', 'dgtcoa', 'dgtaco', 'dgtaoc', 'dgtoca', 'dgtoac', 'dgocat', 'dgocta', 'dgoact', 'dgoatc', 'dgotca', 'dgotac', 'ocatdg', 'ocatgd', 'ocadtg', 'ocadgt', 'ocagtd', 'ocagdt', 'octadg', 'octagd', 'octdag', 'octdga', 'octgad', 'octgda', 'ocdatg', 'ocdagt', 'ocdtag', 'ocdtga', 'ocdgat', 'ocdgta', 'ocgatd', 'ocgadt', 'ocgtad', 'ocgtda', 'ocgdat', 'ocgdta', 'oactdg', 'oactgd', 'oacdtg', 'oacdgt', 'oacgtd', 'oacgdt', 'oatcdg', 'oatcgd', 'oatdcg', 'oatdgc', 'oatgcd', 'oatgdc', 'oadctg', 'oadcgt', 'oadtcg', 'oadtgc', 'oadgct', 'oadgtc', 'oagctd', 'oagcdt', 'oagtcd', 'oagtdc', 'oagdct', 'oagdtc', 'otcadg', 'otcagd', 'otcdag', 'otcdga', 'otcgad', 'otcgda', 'otacdg', 'otacgd', 'otadcg', 'otadgc', 'otagcd', 'otagdc', 'otdcag', 'otdcga', 'otdacg', 'otdagc', 'otdgca', 'otdgac', 'otgcad', 'otgcda', 'otgacd', 'otgadc', 'otgdca', 'otgdac', 'odcatg', 'odcagt', 'odctag', 'odctga', 'odcgat', 'odcgta', 'odactg', 'odacgt', 'odatcg', 'odatgc', 'odagct', 'odagtc', 'odtcag', 'odtcga', 'odtacg', 'odtagc', 'odtgca', 'odtgac', 'odgcat', 'odgcta', 'odgact', 'odgatc', 'odgtca', 'odgtac', 'ogcatd', 'ogcadt', 'ogctad', 'ogctda', 'ogcdat', 'ogcdta', 'ogactd', 'ogacdt', 'ogatcd', 'ogatdc', 'ogadct', 'ogadtc', 'ogtcad', 'ogtcda', 'ogtacd', 'ogtadc', 'ogtdca', 'ogtdac', 'ogdcat', 'ogdcta', 'ogdact', 'ogdatc', 'ogdtca', 'ogdtac', 'gcatdo', 'gcatod', 'gcadto', 'gcadot', 'gcaotd', 'gcaodt', 'gctado', 'gctaod', 'gctdao', 'gctdoa', 'gctoad', 'gctoda', 'gcdato', 'gcdaot', 'gcdtao', 'gcdtoa', 'gcdoat', 'gcdota', 'gcoatd', 'gcoadt', 'gcotad', 'gcotda', 'gcodat', 'gcodta', 'gactdo', 'gactod', 'gacdto', 'gacdot', 'gacotd', 'gacodt', 'gatcdo', 'gatcod', 'gatdco', 'gatdoc', 'gatocd', 'gatodc', 'gadcto', 'gadcot', 'gadtco', 'gadtoc', 'gadoct', 'gadotc', 'gaoctd', 'gaocdt', 'gaotcd', 'gaotdc', 'gaodct', 'gaodtc', 'gtcado', 'gtcaod', 'gtcdao', 'gtcdoa', 'gtcoad', 'gtcoda', 'gtacdo', 'gtacod', 'gtadco', 'gtadoc', 'gtaocd', 'gtaodc', 'gtdcao', 'gtdcoa', 'gtdaco', 'gtdaoc', 'gtdoca', 'gtdoac', 'gtocad', 'gtocda', 'gtoacd', 'gtoadc', 'gtodca', 'gtodac', 'gdcato', 'gdcaot', 'gdctao', 'gdctoa', 'gdcoat', 'gdcota', 'gdacto', 'gdacot', 'gdatco', 'gdatoc', 'gdaoct', 'gdaotc', 'gdtcao', 'gdtcoa', 'gdtaco', 'gdtaoc', 'gdtoca', 'gdtoac', 'gdocat', 'gdocta', 'gdoact', 'gdoatc', 'gdotca', 'gdotac', 'gocatd', 'gocadt', 'goctad', 'goctda', 'gocdat', 'gocdta', 'goactd', 'goacdt', 'goatcd', 'goatdc', 'goadct', 'goadtc', 'gotcad', 'gotcda', 'gotacd', 'gotadc', 'gotdca', 'gotdac', 'godcat', 'godcta', 'godact', 'godatc', 'godtca', 'godtac']\n"
     ]
    }
   ],
   "source": [
    "# P- 1.29\n",
    "import itertools\n",
    "def chrs_order(chrs):\n",
    "    words = []\n",
    "    for i in range(2, len(chrs) + 1):\n",
    "        k = list(itertools.permutations(chrs,i))\n",
    "        for m in range(0, len(k)):\n",
    "            k1 = remove_punctuation(k[m])   # remove_punctuation() is the function we defined previously\n",
    "            words.append(k1)\n",
    "    print(words)\n",
    "\n",
    "chrs1 = ['c', 'a', 't', 'd', 'o', 'g']\n",
    "chrs_order(chrs1)\n"
   ]
  },
  {
   "cell_type": "code",
   "execution_count": 201,
   "metadata": {},
   "outputs": [
    {
     "name": "stdout",
     "output_type": "stream",
     "text": [
      "Please enter an integer greater than 2: 9\n"
     ]
    },
    {
     "data": {
      "text/plain": [
       "3"
      ]
     },
     "execution_count": 201,
     "metadata": {},
     "output_type": "execute_result"
    }
   ],
   "source": [
    "# P-1.30\n",
    "number = int(input('Please enter an integer greater than 2: '))\n",
    "def divd_2(number):\n",
    "\ttimes = 0\n",
    "\twhile number >= 2:\n",
    "\t\tnumber = number/2\n",
    "\t\ttimes = times + 1\n",
    "\treturn times\n",
    "\n",
    "divd_2(9)"
   ]
  },
  {
   "cell_type": "code",
   "execution_count": 226,
   "metadata": {},
   "outputs": [
    {
     "name": "stdout",
     "output_type": "stream",
     "text": [
      "Please enter the monetary amount charged: 45.38\n",
      "Please enter the monetary amount given: 150\n",
      "Change is 104.62\n",
      "Give back\n",
      "1 $100 bill(s)\n",
      "0 $50 bill\n",
      "0 $20 bill(s)\n",
      "0 $10 bill(s)\n",
      "0 $5 bill\n",
      "4 $1 bill(s)\n",
      "2 25 cent coin(s)\n",
      "1 dime(s)\n",
      "0 five cents coin(s)\n",
      "2 one cent coin(s)\n"
     ]
    }
   ],
   "source": [
    "# P-1.31\n",
    "m_charged = float(input('Please enter the monetary amount charged: '))\n",
    "m_given = float(input('Please enter the monetary amount given: '))\n",
    "def make_change(money_charged, money_given):\n",
    "\ttotal_change = round(money_given - money_charged, 2)\n",
    "\tprint('Change is ' + str(total_change))\n",
    "\tdollar = round(total_change, 0)\n",
    "\n",
    "\tif dollar >= 100:\n",
    "\t\thundred_dollars = round(dollar/100)\n",
    "\telse:\n",
    "\t\thundred_dollars = 0\n",
    "\t\n",
    "\tstr_change = str(total_change)\n",
    "\tten_digits = int(str_change[-5])\n",
    "\tsingle_digits = int(str_change[-4])\n",
    "\tdecimals = int(str_change[-2:])\n",
    "\n",
    "\tfifty_dollars = ten_digits // 5\n",
    "\ttwenty_dollars = (ten_digits - fifty_dollars) // 2\n",
    "\tten_dollars = ten_digits - fifty_dollars - twenty_dollars\n",
    "\n",
    "\tfive_dollars = single_digits // 5\n",
    "\tone_dollars = single_digits - five_dollars\n",
    "\n",
    "\tquarters = decimals // 25\n",
    "\tdime = (decimals - quarters * 25) // 10\n",
    "\tfive_cents = (decimals - quarters * 25 - dime * 10) // 5\n",
    "\tone_cent = decimals - quarters * 25 - dime * 10 - five_cents * 5\n",
    "\n",
    "\tprint('Give back\\n' + str(hundred_dollars) + ' $100 bill(s)\\n' + str(fifty_dollars) + ' $50 bill\\n' +\n",
    "\t\tstr(twenty_dollars) + ' $20 bill(s)\\n' + str(ten_dollars) + ' $10 bill(s)\\n' +\n",
    "\t\tstr(five_dollars) + ' $5 bill\\n' + str(one_dollars) + ' $1 bill(s)\\n' + str(quarters) + ' 25 cent coin(s)\\n' \n",
    "\t\t+ str(dime) + ' dime(s)\\n' + str(five_cents) + ' five cents coin(s)\\n' + str(one_cent) + ' one cent coin(s)')\n",
    "\n",
    "make_change(m_charged, m_given)"
   ]
  },
  {
   "cell_type": "code",
   "execution_count": 259,
   "metadata": {},
   "outputs": [
    {
     "name": "stdout",
     "output_type": "stream",
     "text": [
      "Please enter the monetary amount charged: 36.49\n",
      "Please enter the monetary amount given: 390.82\n",
      "Change is 354.33\n",
      "$100 bill: 3\n",
      "$50 bill: 1\n",
      "$20 bill: 0\n",
      "$10 bill: 0\n",
      "$5 bill: 0\n",
      "$1 bill: 4\n",
      "quarter: 1\n",
      "dime: 0\n",
      "5 cent coin: 1\n",
      "1 cent coin: 2\n"
     ]
    }
   ],
   "source": [
    "# another method\n",
    "def make_change(money_charged, money_given):\n",
    "\ttotal_change = round(money_given - money_charged, 2)\n",
    "\tprint('Change is ' + str(total_change))\n",
    "\tamount = []\n",
    "\tvalue_list = [100, 50, 20, 10, 5, 1, 0.25, 0.10, 0.05, 0.01]\n",
    "\tfor i in range(0, len(value_list)):\n",
    "\t\tchanged_value = int(total_change // value_list[i])\n",
    "\t\ttotal_change = total_change - changed_value * value_list[i]\n",
    "\t\tamount.append(changed_value)\n",
    "\tbills = ['$100 bill', '$50 bill', '$20 bill', '$10 bill', '$5 bill', '$1 bill', \n",
    "\t'quarter', 'dime', '5 cent coin', '1 cent coin']\n",
    "\tchanges = dict(zip(bills, amount))\n",
    "\tfor key, value in changes.items():\n",
    "\t\tprint(str(key) + \": \" + str(value))\n",
    "\n",
    "m_charged = float(input('Please enter the monetary amount charged: '))\n",
    "m_given = float(input('Please enter the monetary amount given: '))\n",
    "make_change(m_charged, m_given)"
   ]
  },
  {
   "cell_type": "code",
   "execution_count": 275,
   "metadata": {},
   "outputs": [
    {
     "name": "stdout",
     "output_type": "stream",
     "text": [
      "Please enter the monetary amount charged: 36.49\n",
      "Please enter the monetary amount given: 390.82\n",
      "Change is 354.33\n",
      "$100 bill: 3\n",
      "$50 bill: 1\n",
      "$20 bill: 0\n",
      "$10 bill: 0\n",
      "$5 bill: 0\n",
      "$1 bill: 4\n",
      "quarter: 1\n",
      "dime: 0\n",
      "5 cent coin: 1\n",
      "1 cent coin: 2\n"
     ]
    }
   ],
   "source": [
    "# another method\n",
    "def make_change(money_charged, money_given):\n",
    "\ttotal_change = round(money_given - money_charged, 2)\n",
    "\tprint('Change is ' + str(total_change))\n",
    "\tamount = []\n",
    "\tvalue_list = [100, 50, 20, 10, 5, 1, 0.25, 0.10, 0.05, 0.01]\n",
    "\tfor i in range(0, len(value_list)):\n",
    "\t\tchanged_value = int((total_change * 100) // ((value_list[i]) * 100))\n",
    "\t\ttotal_change = total_change * 100 - changed_value * value_list[i] * 100\n",
    "\t\tamount.append(changed_value)\n",
    "\tbills = ['$100 bill', '$50 bill', '$20 bill', '$10 bill', '$5 bill', '$1 bill', \n",
    "\t'quarter', 'dime', '5 cent coin', '1 cent coin']\n",
    "\tchanges = dict(zip(bills, amount))\n",
    "\tfor key, value in changes.items():\n",
    "\t\tprint(str(key) + \": \" + str(value))\n",
    "\n",
    "m_charged = float(input('Please enter the monetary amount charged: '))\n",
    "m_given = float(input('Please enter the monetary amount given: '))\n",
    "make_change(m_charged, m_given)"
   ]
  },
  {
   "cell_type": "code",
   "execution_count": 283,
   "metadata": {},
   "outputs": [
    {
     "name": "stdout",
     "output_type": "stream",
     "text": [
      "Please enter the monetary amount charged: 36.49\n",
      "Please enter the monetary amount given: 390.82\n",
      "Change is 354.33\n",
      "$100 bill: 3\n",
      "$50 bill: 1\n",
      "$20 bill: 0\n",
      "$10 bill: 0\n",
      "$5 bill: 0\n",
      "$1 bill: 4\n",
      "quarter: 1\n",
      "dime: 0\n",
      "5 cent coin: 1\n",
      "1 cent coin: 3\n"
     ]
    }
   ],
   "source": [
    "def make_change(money_charged, money_given):\n",
    "\ttotal_change = round(money_given - money_charged, 2)*100\n",
    "\tprint('Change is ' + str(total_change/100))\n",
    "\tamount = []\n",
    "\tvalue_list = [10000, 5000, 2000, 1000, 500, 100, 25, 10, 5, 1]\n",
    "\tfor i in range(0, len(value_list)):\n",
    "\t\tchanged_value = int(total_change // value_list[i])\n",
    "\t\ttotal_change = total_change - changed_value * value_list[i]\n",
    "\t\tamount.append(changed_value)\n",
    "\tbills = ['$100 bill', '$50 bill', '$20 bill', '$10 bill', '$5 bill', '$1 bill', \n",
    "\t'quarter', 'dime', '5 cent coin', '1 cent coin']\n",
    "\tchanges = dict(zip(bills, amount))\n",
    "\tfor key, value in changes.items():\n",
    "\t\tprint(str(key) + \": \" + str(value))\n",
    "\n",
    "m_charged = float(input('Please enter the monetary amount charged: '))\n",
    "m_given = float(input('Please enter the monetary amount given: '))\n",
    "make_change(m_charged, m_given)\n",
    "\n"
   ]
  },
  {
   "cell_type": "code",
   "execution_count": null,
   "metadata": {},
   "outputs": [],
   "source": []
  }
 ],
 "metadata": {
  "kernelspec": {
   "display_name": "Python 3",
   "language": "python",
   "name": "python3"
  },
  "language_info": {
   "codemirror_mode": {
    "name": "ipython",
    "version": 3
   },
   "file_extension": ".py",
   "mimetype": "text/x-python",
   "name": "python",
   "nbconvert_exporter": "python",
   "pygments_lexer": "ipython3",
   "version": "3.7.2"
  }
 },
 "nbformat": 4,
 "nbformat_minor": 2
}
